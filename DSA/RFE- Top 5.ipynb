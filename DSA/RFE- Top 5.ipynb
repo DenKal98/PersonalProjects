{
 "cells": [
  {
   "cell_type": "code",
   "execution_count": 1,
   "metadata": {},
   "outputs": [],
   "source": [
    "import pandas as pd\n",
    "from sklearn.feature_selection import RFE\n",
    "from sklearn.ensemble import RandomForestClassifier\n",
    "from imblearn.over_sampling import SMOTE\n",
    "from sklearn.model_selection import train_test_split"
   ]
  },
  {
   "cell_type": "code",
   "execution_count": 2,
   "metadata": {},
   "outputs": [],
   "source": [
    "#Importing data\n",
    "data = pd.read_csv('final_data.csv')"
   ]
  },
  {
   "cell_type": "code",
   "execution_count": 3,
   "metadata": {},
   "outputs": [],
   "source": [
    "#Seperating into X and Y\n",
    "X = data.iloc[:, 1: -1]\n",
    "Y = data.iloc[:, -1]"
   ]
  },
  {
   "cell_type": "code",
   "execution_count": 4,
   "metadata": {},
   "outputs": [],
   "source": [
    "#finding correlated features\n",
    "correlated_features = set()\n",
    "correlation_matrix = X.corr()\n",
    "\n",
    "for i in range(len(correlation_matrix.columns)):\n",
    "    for j in range(i):\n",
    "        if abs(correlation_matrix.iloc[i, j]) > 0.8:\n",
    "            colname = correlation_matrix.columns[i]\n",
    "            correlated_features.add(colname)"
   ]
  },
  {
   "cell_type": "code",
   "execution_count": 5,
   "metadata": {},
   "outputs": [],
   "source": [
    "#Dropping features that have a high correlation\n",
    "X = X.drop(correlated_features,axis=1)"
   ]
  },
  {
   "cell_type": "code",
   "execution_count": 6,
   "metadata": {},
   "outputs": [],
   "source": [
    "#Spliting data into train and test sets\n",
    "X_train, X_test, y_train, y_test = train_test_split(X, Y, test_size=0.3)"
   ]
  },
  {
   "cell_type": "code",
   "execution_count": 7,
   "metadata": {},
   "outputs": [],
   "source": [
    "#Applying Oversampling\n",
    "sm = SMOTE(random_state=42)\n",
    "X_train_res, y_train_res = sm.fit_resample(X_train, y_train)"
   ]
  },
  {
   "cell_type": "code",
   "execution_count": 8,
   "metadata": {},
   "outputs": [
    {
     "data": {
      "text/plain": [
       "RFE(estimator=RandomForestClassifier(bootstrap=True, ccp_alpha=0.0,\n",
       "                                     class_weight=None, criterion='gini',\n",
       "                                     max_depth=None, max_features='auto',\n",
       "                                     max_leaf_nodes=None, max_samples=None,\n",
       "                                     min_impurity_decrease=0.0,\n",
       "                                     min_impurity_split=None,\n",
       "                                     min_samples_leaf=1, min_samples_split=2,\n",
       "                                     min_weight_fraction_leaf=0.0,\n",
       "                                     n_estimators=100, n_jobs=None,\n",
       "                                     oob_score=False, random_state=None,\n",
       "                                     verbose=0, warm_start=False),\n",
       "    n_features_to_select=5, step=1, verbose=0)"
      ]
     },
     "execution_count": 8,
     "metadata": {},
     "output_type": "execute_result"
    }
   ],
   "source": [
    "#Finding the top 5 features from the dataset\n",
    "clf=RandomForestClassifier()\n",
    "rfecv = RFE(clf, 5)\n",
    "rfecv.fit(X_train_res, y_train_res)"
   ]
  },
  {
   "cell_type": "code",
   "execution_count": 9,
   "metadata": {},
   "outputs": [
    {
     "name": "stdout",
     "output_type": "stream",
     "text": [
      "[(1, 'credit_card_balance'), (1, 'credit_card_usage'), (1, 'debt_to_income'), (1, 'interest_rate'), (1, 'loan_amount'), (2, 'annual_income'), (3, 'credit_score'), (4, 'term_ 36 months'), (5, 'employment_length'), (6, 'nr_accounts'), (7, 'home_ownership_MORTGAGE'), (8, 'inq_last_6mths_cat_no'), (9, 'open_accounts'), (10, 'purpose_credit_card'), (11, 'purpose_debt_consolidation'), (12, 'year'), (13, 'issue_date_Oct'), (14, 'issue_date_Jul'), (15, 'issue_date_Aug'), (16, 'issue_date_Sep'), (17, 'issue_date_Nov'), (18, 'issue_date_Jan'), (19, 'issue_date_Jun'), (20, 'issue_date_May'), (21, 'issue_date_Apr'), (22, 'issue_date_Mar'), (23, 'issue_date_Dec'), (24, 'issue_date_Feb'), (25, 'delinq_2yrs_cat_no'), (26, 'home_ownership_OWN'), (27, 'purpose_other'), (28, 'purpose_home_improvement'), (29, 'pub_rec_cat_no'), (30, 'purpose_major_purchase'), (31, 'purpose_small_business'), (32, 'purpose_car'), (33, 'purpose_medical'), (34, 'purpose_wedding'), (35, 'purpose_moving'), (36, 'purpose_house'), (37, 'purpose_vacation'), (38, 'purpose_educational'), (39, 'purpose_renewable_energy'), (40, 'home_ownership_OTHER'), (41, 'home_ownership_NONE'), (42, 'home_ownership_ANY')]\n"
     ]
    }
   ],
   "source": [
    "print(sorted(zip(map(lambda x: round(x, 4), rfecv.ranking_), X)))"
   ]
  },
  {
   "cell_type": "code",
   "execution_count": null,
   "metadata": {},
   "outputs": [],
   "source": []
  }
 ],
 "metadata": {
  "kernelspec": {
   "display_name": "Python 3",
   "language": "python",
   "name": "python3"
  },
  "language_info": {
   "codemirror_mode": {
    "name": "ipython",
    "version": 3
   },
   "file_extension": ".py",
   "mimetype": "text/x-python",
   "name": "python",
   "nbconvert_exporter": "python",
   "pygments_lexer": "ipython3",
   "version": "3.7.6"
  }
 },
 "nbformat": 4,
 "nbformat_minor": 2
}
