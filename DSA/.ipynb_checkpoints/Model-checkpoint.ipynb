{
 "cells": [
  {
   "cell_type": "code",
   "execution_count": 104,
   "metadata": {},
   "outputs": [],
   "source": [
    "from xgboost import XGBClassifier\n",
    "import xgboost as xgb\n",
    "from plotly.offline import init_notebook_mode, iplot\n",
    "import plotly.graph_objs as go\n",
    "import chart_studio.plotly as py\n",
    "from plotly import tools\n",
    "import plotly.figure_factory as ff\n",
    "from sklearn.feature_selection import RFE\n",
    "from sklearn.metrics import recall_score\n",
    "from sklearn.metrics import precision_score\n",
    "from sklearn.metrics import f1_score\n",
    "from sklearn.metrics import accuracy_score, confusion_matrix\n",
    "from sklearn.model_selection import KFold\n",
    "from sklearn.model_selection import cross_val_score\n",
    "from imblearn.over_sampling import SMOTE\n",
    "from sklearn.model_selection import GridSearchCV\n",
    "from sklearn.model_selection import train_test_split\n",
    "from sklearn.feature_selection import RFECV\n",
    "from sklearn.model_selection import StratifiedKFold\n",
    "from sklearn.preprocessing import StandardScaler\n",
    "import matplotlib.pyplot as plt\n",
    "import numpy as np\n",
    "from scipy.stats import boxcox\n",
    "import pandas as pd\n",
    "import seaborn as sns"
   ]
  },
  {
   "cell_type": "code",
   "execution_count": 82,
   "metadata": {},
   "outputs": [],
   "source": [
    "data = pd.read_csv('final_data.csv')"
   ]
  },
  {
   "cell_type": "code",
   "execution_count": 83,
   "metadata": {},
   "outputs": [],
   "source": [
    "#X = data.iloc[:, 0: 56]\n",
    "Y = data.iloc[:, 56]\n",
    "X = data"
   ]
  },
  {
   "cell_type": "code",
   "execution_count": 111,
   "metadata": {},
   "outputs": [],
   "source": [
    "corr = data.corr()\n",
    "numerical = X.columns[X.dtypes == 'float64']\n",
    "for i in numerical:\n",
    "    if X[i].min() > 0:\n",
    "        transformed, lamb = boxcox(X.loc[X[i].notnull(), i])\n",
    "        if np.abs(1 - lamb) > 0.02:\n",
    "            X.loc[X[i].notnull(), i] = transformed"
   ]
  },
  {
   "cell_type": "code",
   "execution_count": null,
   "metadata": {},
   "outputs": [],
   "source": [
    "\n"
   ]
  },
  {
   "cell_type": "code",
   "execution_count": 85,
   "metadata": {},
   "outputs": [
    {
     "data": {
      "text/plain": [
       "Index(['Unnamed: 0', 'installment', 'loan_amount', 'interest_rate',\n",
       "       'annual_income', 'employment_length', 'open_accounts', 'debt_to_income',\n",
       "       'credit_card_usage', 'credit_card_balance', 'nr_accounts',\n",
       "       'amount_payed', 'year', 'credit_score', 'interest_round',\n",
       "       'loan_codition', 'term_ 36 months', 'term_ 60 months', 'purpose_car',\n",
       "       'purpose_credit_card', 'purpose_debt_consolidation',\n",
       "       'purpose_educational', 'purpose_home_improvement', 'purpose_house',\n",
       "       'purpose_major_purchase', 'purpose_medical', 'purpose_moving',\n",
       "       'purpose_other', 'purpose_renewable_energy', 'purpose_small_business',\n",
       "       'purpose_vacation', 'purpose_wedding', 'issue_date_Apr',\n",
       "       'issue_date_Aug', 'issue_date_Dec', 'issue_date_Feb', 'issue_date_Jan',\n",
       "       'issue_date_Jul', 'issue_date_Jun', 'issue_date_Mar', 'issue_date_May',\n",
       "       'issue_date_Nov', 'issue_date_Oct', 'issue_date_Sep',\n",
       "       'home_ownership_ANY', 'home_ownership_MORTGAGE', 'home_ownership_NONE',\n",
       "       'home_ownership_OTHER', 'home_ownership_OWN', 'home_ownership_RENT',\n",
       "       'delinq_2yrs_cat_no', 'delinq_2yrs_cat_yes', 'inq_last_6mths_cat_no',\n",
       "       'inq_last_6mths_cat_yes', 'pub_rec_cat_no', 'pub_rec_cat_yes',\n",
       "       'loan_condition'],\n",
       "      dtype='object')"
      ]
     },
     "execution_count": 85,
     "metadata": {},
     "output_type": "execute_result"
    }
   ],
   "source": [
    "X.columns"
   ]
  },
  {
   "cell_type": "code",
   "execution_count": 86,
   "metadata": {},
   "outputs": [],
   "source": [
    "correlated_features = set()\n",
    "correlation_matrix = X.corr()\n",
    "\n",
    "for i in range(len(correlation_matrix.columns)):\n",
    "    for j in range(i):\n",
    "        if abs(correlation_matrix.iloc[i, j]) > 0.8:\n",
    "            colname = correlation_matrix.columns[i]\n",
    "            correlated_features.add(colname)"
   ]
  },
  {
   "cell_type": "code",
   "execution_count": 87,
   "metadata": {},
   "outputs": [],
   "source": [
    "X = X.drop(correlated_features,axis=1)"
   ]
  },
  {
   "cell_type": "code",
   "execution_count": 88,
   "metadata": {},
   "outputs": [
    {
     "data": {
      "text/plain": [
       "Index(['delinq_2yrs_cat_no', 'home_ownership_ANY', 'home_ownership_MORTGAGE',\n",
       "       'home_ownership_NONE', 'home_ownership_OTHER', 'home_ownership_OWN',\n",
       "       'inq_last_6mths_cat_no', 'issue_date_Oct', 'issue_date_Sep',\n",
       "       'pub_rec_cat_no', 'purpose_car', 'purpose_credit_card',\n",
       "       'purpose_debt_consolidation', 'purpose_educational',\n",
       "       'purpose_home_improvement', 'purpose_debt_consolidation',\n",
       "       'purpose_educational', 'purpose_home_improvement', 'purpose_house',\n",
       "       'purpose_major_purchase', 'purpose_medical', 'term_ 36 months',\n",
       "       'loan_condition'],\n",
       "      dtype='object')"
      ]
     },
     "execution_count": 88,
     "metadata": {},
     "output_type": "execute_result"
    }
   ],
   "source": [
    "X= X.drop(['Unnamed: 0'],axis=1)\n",
    "X = X[['delinq_2yrs_cat_no','home_ownership_ANY','home_ownership_MORTGAGE','home_ownership_NONE','home_ownership_OTHER','home_ownership_OWN','inq_last_6mths_cat_no',\n",
    "       'issue_date_Oct','issue_date_Sep','pub_rec_cat_no','purpose_car'\n",
    "       ,'purpose_credit_card','purpose_debt_consolidation','purpose_educational','purpose_home_improvement','purpose_debt_consolidation','purpose_educational','purpose_home_improvement','purpose_house','purpose_major_purchase','purpose_medical','term_ 36 months']]\n",
    "X = pd.concat([X,Y],axis=1)\n",
    "X.columns"
   ]
  },
  {
   "cell_type": "code",
   "execution_count": 89,
   "metadata": {},
   "outputs": [],
   "source": [
    "traindata, testdata = train_test_split(X, stratify=X['loan_condition'],test_size=.4, random_state=17)\n",
    "testdata.reset_index(drop=True, inplace=True)\n",
    "traindata.reset_index(drop=True, inplace=True)"
   ]
  },
  {
   "cell_type": "code",
   "execution_count": 91,
   "metadata": {},
   "outputs": [],
   "source": [
    "sc = StandardScaler()\n",
    "Xunb = traindata.drop('loan_condition', axis=1)\n",
    "yunb = traindata['loan_condition']\n",
    "numerical = Xunb.columns[(Xunb.dtypes == 'float64') | (Xunb.dtypes == 'int64')].tolist()\n",
    "Xunb[numerical] = sc.fit_transform(Xunb[numerical])"
   ]
  },
  {
   "cell_type": "code",
   "execution_count": 92,
   "metadata": {},
   "outputs": [],
   "source": [
    "def createROC(models, X, y, Xte, yte):\n",
    "    false_p, true_p = [], [] ##false postives and true positives\n",
    "\n",
    "    for i in models.keys():  ##dict of models\n",
    "        models[i].fit(X, y)\n",
    "\n",
    "        fp, tp, threshold = roc_curve(yte, models[i].predict_proba(Xte)[:,1]) ##roc_curve function\n",
    "\n",
    "        true_p.append(tp)\n",
    "        false_p.append(fp)\n",
    "    return true_p, false_p ##returning the true postive and false positive"
   ]
  },
  {
   "cell_type": "code",
   "execution_count": 93,
   "metadata": {},
   "outputs": [
    {
     "name": "stdout",
     "output_type": "stream",
     "text": [
      "LDA [0.89258632 0.89258632 0.89256434] 0.8925789978826443\n",
      "MNB [0.89236653 0.89258632 0.89256434] 0.8925057329787313\n",
      "RF [0.89183902 0.89238851 0.89232257] 0.8921833674015137\n",
      "LR [0.89256434 0.89258632 0.89256434] 0.8925716713922528\n"
     ]
    }
   ],
   "source": [
    "from sklearn.discriminant_analysis import LinearDiscriminantAnalysis\n",
    "from sklearn.ensemble import RandomForestClassifier\n",
    "from sklearn.linear_model import LogisticRegression\n",
    "from sklearn.naive_bayes import MultinomialNB\n",
    "\n",
    "models = {'LDA': LinearDiscriminantAnalysis(),\n",
    "          'MNB': MultinomialNB(),\n",
    "          'RF': RandomForestClassifier(n_estimators=100),\n",
    "          'LR': LogisticRegression(C=1)}\n",
    "\n",
    "unbalset = {}\n",
    "for i in models.keys():\n",
    "    scores = cross_val_score(models[i], Xunb - np.min(Xunb) + 1,\n",
    "                                    yunb, cv=3)\n",
    "    unbalset[i] = scores\n",
    "    print(i, scores, np.mean(scores))"
   ]
  },
  {
   "cell_type": "code",
   "execution_count": 95,
   "metadata": {},
   "outputs": [],
   "source": [
    "Xte = testdata.drop('loan_condition', axis=1)\n",
    "yte = testdata['loan_condition']\n",
    "numerical = Xte.columns[(Xte.dtypes == 'float64') | (Xte.dtypes == 'int64')].tolist()\n",
    "Xte[numerical] = sc.fit_transform(Xte[numerical])"
   ]
  },
  {
   "cell_type": "code",
   "execution_count": 97,
   "metadata": {},
   "outputs": [],
   "source": [
    "from sklearn.metrics import confusion_matrix\n",
    "from sklearn.metrics import roc_auc_score\n",
    "from sklearn.metrics import roc_curve\n",
    "tp_unbalset, fp_unbalset = createROC(models, Xunb - np.min(Xunb) + 1, yunb, Xte - np.min(Xte) + 1, yte)"
   ]
  },
  {
   "cell_type": "code",
   "execution_count": 98,
   "metadata": {},
   "outputs": [],
   "source": [
    "model =  LogisticRegression(C=1)\n",
    "model.fit(Xunb, yunb)\n",
    "predict = model.predict(Xte) #prediction of Xte which can be used to test against yte (testdata values or true values of y)"
   ]
  },
  {
   "cell_type": "code",
   "execution_count": 100,
   "metadata": {},
   "outputs": [
    {
     "data": {
      "text/plain": [
       "1    81219\n",
       "0     9775\n",
       "Name: loan_condition, dtype: int64"
      ]
     },
     "execution_count": 100,
     "metadata": {},
     "output_type": "execute_result"
    }
   ],
   "source": [
    "m = yte.to_frame()\n",
    "m['loan_condition'].value_counts()"
   ]
  },
  {
   "cell_type": "code",
   "execution_count": 105,
   "metadata": {},
   "outputs": [
    {
     "data": {
      "text/plain": [
       "(0.0, 2.0, 2.0, 0.0)"
      ]
     },
     "execution_count": 105,
     "metadata": {},
     "output_type": "execute_result"
    },
    {
     "data": {
      "image/png": "[encoded data removed]",
      "text/plain": [
       "<Figure size 1296x360 with 4 Axes>"
      ]
     },
     "metadata": {
      "needs_background": "light"
     },
     "output_type": "display_data"
    }
   ],
   "source": [
    "fig, axes = plt.subplots(nrows=1, ncols=3, figsize=(18,5))\n",
    "ax = pd.DataFrame(unbalset).boxplot(widths=(0.9,0.9,0.9,0.9), grid=False, vert=False, ax=axes[0])\n",
    "ax.set_ylabel('Classifier')\n",
    "ax.set_xlabel('Cross-Validation Score')\n",
    "\n",
    "for i in range(0, len(tp_unbalset)):\n",
    "    axes[1].plot(fp_unbalset[i], tp_unbalset[i], lw=1)\n",
    "\n",
    "axes[1].plot([0, 1], [0, 1], '--k', lw=1)\n",
    "axes[1].legend(models.keys())\n",
    "axes[1].set_ylabel('True Positive Rate')\n",
    "axes[1].set_xlabel('False Positive Rate')\n",
    "axes[1].set_xlim(0,1)\n",
    "axes[1].set_ylim(0,1)\n",
    "\n",
    "cm = confusion_matrix(yte, predict).T\n",
    "cm = cm.astype('float')/cm.sum(axis=0)\n",
    "\n",
    "ax = sns.heatmap(cm, annot=True, cmap='Blues', ax=axes[2]);\n",
    "ax.set_xlabel('True Value')\n",
    "ax.set_ylabel('Predicted Value')\n",
    "ax.axis('equal')"
   ]
  },
  {
   "cell_type": "code",
   "execution_count": 107,
   "metadata": {},
   "outputs": [],
   "source": [
    "fp, tp, threshold = roc_curve(yte, model.predict_proba(Xte)[:,1]) #getting false and true positive from test set"
   ]
  },
  {
   "cell_type": "code",
   "execution_count": 108,
   "metadata": {},
   "outputs": [
    {
     "data": {
      "text/plain": [
       "Text(0, 0.5, 'True Positive & False Positive Rates')"
      ]
     },
     "execution_count": 108,
     "metadata": {},
     "output_type": "execute_result"
    },
    {
     "data": {
      "image/png": "[encoded data removed]",
      "text/plain": [
       "<Figure size 1152x432 with 2 Axes>"
      ]
     },
     "metadata": {
      "needs_background": "light"
     },
     "output_type": "display_data"
    }
   ],
   "source": [
    "fig, ax = plt.subplots(nrows=1, ncols=2, figsize=(16,6))\n",
    "\n",
    "ax[0].plot(threshold, tp + (1 - fp))\n",
    "ax[0].set_xlabel('Threshold')\n",
    "ax[0].set_ylabel('Sensitivity + Specificity')\n",
    "\n",
    "ax[1].plot(threshold, tp, label=\"tp\")\n",
    "ax[1].plot(threshold, 1 - fp, label=\"1 - fp\")\n",
    "ax[1].legend()\n",
    "ax[1].set_xlabel('Threshold')\n",
    "ax[1].set_ylabel('True Positive & False Positive Rates')"
   ]
  },
  {
   "cell_type": "code",
   "execution_count": 109,
   "metadata": {},
   "outputs": [
    {
     "name": "stdout",
     "output_type": "stream",
     "text": [
      "optimal threshold: 0.8915473244616309\n"
     ]
    }
   ],
   "source": [
    "##finding the optimal threshold for the model \n",
    "function = tp + (1 - fp)\n",
    "index = np.argmax(function)\n",
    "\n",
    "optimal_threshold = threshold[np.argmax(function)]\n",
    "print('optimal threshold:', optimal_threshold)"
   ]
  },
  {
   "cell_type": "code",
   "execution_count": 110,
   "metadata": {},
   "outputs": [
    {
     "data": {
      "text/plain": [
       "(0.0, 2.0, 2.0, 0.0)"
      ]
     },
     "execution_count": 110,
     "metadata": {},
     "output_type": "execute_result"
    },
    {
     "data": {
      "image/png": "[encoded data removed]",
      "text/plain": [
       "<Figure size 1080x432 with 2 Axes>"
      ]
     },
     "metadata": {
      "needs_background": "light"
     },
     "output_type": "display_data"
    }
   ],
   "source": [
    "predict = model.predict_proba(Xte)[:,1]\n",
    "predict = np.where(predict >= optimal_threshold, 1, 0)\n",
    "\n",
    "fig, axes = plt.subplots(figsize=(15,6))\n",
    "\n",
    "cm = confusion_matrix(yte, predict).T\n",
    "cm = cm.astype('float')/cm.sum(axis=0)\n",
    "\n",
    "ax = sns.heatmap(cm, annot=True, cmap='Blues');\n",
    "ax.set_xlabel('True Value')\n",
    "ax.set_ylabel('Predicted Value')\n",
    "ax.axis('equal')"
   ]
  },
  {
   "cell_type": "code",
   "execution_count": 21,
   "metadata": {},
   "outputs": [],
   "source": [
    "xgb = XGBClassifier()\n",
    "rfe = RFE(xgb, 20)\n",
    "rfe = rfe.fit(X, Y)"
   ]
  },
  {
   "cell_type": "code",
   "execution_count": 22,
   "metadata": {},
   "outputs": [
    {
     "name": "stdout",
     "output_type": "stream",
     "text": [
      "Optimal number of features: [27 26 25 24 23 22 21 20 19 18  1  1  1  1  1  1  1  1  1  1  3  5  7  9\n",
      " 11 13 15 17 16 14 12 10  8  6  4  2  1  1  1  1  1  1  1  1  1  1]\n"
     ]
    }
   ],
   "source": [
    "print('Optimal number of features: {}'.format(rfe.ranking_))\n",
    "\n"
   ]
  },
  {
   "cell_type": "code",
   "execution_count": 23,
   "metadata": {},
   "outputs": [
    {
     "name": "stdout",
     "output_type": "stream",
     "text": [
      "[(1, 'delinq_2yrs_cat_no'), (1, 'home_ownership_ANY'), (1, 'home_ownership_MORTGAGE'), (1, 'home_ownership_NONE'), (1, 'home_ownership_OTHER'), (1, 'home_ownership_OWN'), (1, 'inq_last_6mths_cat_no'), (1, 'issue_date_Oct'), (1, 'issue_date_Sep'), (1, 'loan_codition'), (1, 'pub_rec_cat_no'), (1, 'purpose_car'), (1, 'purpose_credit_card'), (1, 'purpose_debt_consolidation'), (1, 'purpose_educational'), (1, 'purpose_home_improvement'), (1, 'purpose_house'), (1, 'purpose_major_purchase'), (1, 'purpose_medical'), (1, 'term_ 36 months'), (2, 'issue_date_Nov'), (3, 'purpose_moving'), (4, 'issue_date_May'), (5, 'purpose_other'), (6, 'issue_date_Mar'), (7, 'purpose_renewable_energy'), (8, 'issue_date_Jun'), (9, 'purpose_small_business'), (10, 'issue_date_Jul'), (11, 'purpose_vacation'), (12, 'issue_date_Jan'), (13, 'purpose_wedding'), (14, 'issue_date_Feb'), (15, 'issue_date_Apr'), (16, 'issue_date_Dec'), (17, 'issue_date_Aug'), (18, 'credit_score'), (19, 'nr_accounts'), (20, 'credit_card_balance'), (21, 'credit_card_usage'), (22, 'debt_to_income'), (23, 'open_accounts'), (24, 'employment_length'), (25, 'annual_income'), (26, 'interest_rate'), (27, 'installment')]\n"
     ]
    }
   ],
   "source": [
    "print(sorted(zip(map(lambda x: round(x, 4), rfe.ranking_), X)))"
   ]
  },
  {
   "cell_type": "code",
   "execution_count": 35,
   "metadata": {},
   "outputs": [],
   "source": [
    "X = X[['delinq_2yrs_cat_no','home_ownership_ANY','home_ownership_MORTGAGE','home_ownership_NONE','home_ownership_OTHER','home_ownership_OWN','inq_last_6mths_cat_no',\n",
    "       'issue_date_Oct','issue_date_Sep','pub_rec_cat_no','purpose_car'\n",
    "       ,'purpose_credit_card','purpose_debt_consolidation','purpose_educational','purpose_home_improvement','purpose_debt_consolidation','purpose_educational','purpose_home_improvement','purpose_house','purpose_major_purchase','purpose_medical','term_ 36 months']]"
   ]
  },
  {
   "cell_type": "code",
   "execution_count": 36,
   "metadata": {},
   "outputs": [],
   "source": [
    "scaler = MinMaxScaler(feature_range=(0, 1))\n",
    "X = scaler.fit_transform(X)"
   ]
  },
  {
   "cell_type": "code",
   "execution_count": null,
   "metadata": {},
   "outputs": [],
   "source": [
    "sm = SMOTE(random_state=42)\n",
    "X_train_res, y_train_res = sm.fit_resample(X, Y)\n",
    "X_train, X_test, y_train, y_test = train_test_split(X_train_res,y_train_res, test_size=0.3, random_state=100)\n",
    "\n",
    "scores = []\n",
    "xgb_c1 = XGBClassifier()\n",
    "cv = KFold(n_splits=10, random_state=42, shuffle=False)\n",
    "for train_index, test_index in cv.split(X_train_res):\n",
    "    print(\"Train Index: \", train_index, \"\\n\")\n",
    "    print(\"Test Index: \", test_index)\n",
    "\n",
    "    X_train, X_test, y_train, y_test = X_train_res[train_index], X_train_res[test_index], y_train_res[train_index], y_train_res[test_index]\n",
    "    xgb_c1.fit(X_train, y_train)\n",
    "    scores.append(xgb_c1.score(X_test, y_test))\n",
    "\n",
    "\n",
    "\n"
   ]
  },
  {
   "cell_type": "code",
   "execution_count": null,
   "metadata": {},
   "outputs": [],
   "source": [
    "xgb_c1.fit(X_train, y_train)\n"
   ]
  },
  {
   "cell_type": "code",
   "execution_count": null,
   "metadata": {},
   "outputs": [],
   "source": [
    "scores.append(xgb_c1.score(X_test, y_test))"
   ]
  },
  {
   "cell_type": "code",
   "execution_count": null,
   "metadata": {},
   "outputs": [],
   "source": [
    "print(np.mean(scores))"
   ]
  },
  {
   "cell_type": "code",
   "execution_count": null,
   "metadata": {},
   "outputs": [],
   "source": [
    "cross_val_score(xgb_c1, X, Y, cv=10)"
   ]
  },
  {
   "cell_type": "code",
   "execution_count": null,
   "metadata": {},
   "outputs": [],
   "source": [
    "cross_val_predict(xgb_c1, X, y, cv=10)"
   ]
  },
  {
   "cell_type": "code",
   "execution_count": 37,
   "metadata": {},
   "outputs": [
    {
     "data": {
      "text/plain": [
       "XGBClassifier(base_score=0.5, booster='gbtree', colsample_bylevel=1,\n",
       "              colsample_bynode=1, colsample_bytree=1, gamma=0,\n",
       "              learning_rate=0.1, max_delta_step=0, max_depth=3,\n",
       "              min_child_weight=1, missing=None, n_estimators=100, n_jobs=1,\n",
       "              nthread=None, objective='binary:logistic', random_state=0,\n",
       "              reg_alpha=0, reg_lambda=1, scale_pos_weight=1, seed=None,\n",
       "              silent=None, subsample=1, verbosity=1)"
      ]
     },
     "execution_count": 37,
     "metadata": {},
     "output_type": "execute_result"
    }
   ],
   "source": [
    "sm = SMOTE(random_state=42)\n",
    "X_train_res, y_train_res = sm.fit_resample(X, Y)\n",
    "X_train, X_test, y_train, y_test = train_test_split(X_train_res,y_train_res, test_size=0.3, random_state=100)\n",
    "xgb_c1 = XGBClassifier()\n",
    "xgb_c1.fit(X_train, y_train.ravel())"
   ]
  },
  {
   "cell_type": "code",
   "execution_count": 38,
   "metadata": {},
   "outputs": [],
   "source": [
    "y_pred = xgb_c1.predict(X_test)"
   ]
  },
  {
   "cell_type": "code",
   "execution_count": 39,
   "metadata": {},
   "outputs": [
    {
     "name": "stdout",
     "output_type": "stream",
     "text": [
      "Precision: 0.5907987068130689\n",
      "Recall: 0.6514382402707276\n",
      "Accuracy: 0.6003907115711365\n",
      "Confusion Matrix: [[33490 27466]\n",
      " [21218 39655]]\n"
     ]
    }
   ],
   "source": [
    "\n",
    "precision = precision_score(y_test, y_pred)\n",
    "recall = recall_score(y_test, y_pred)\n",
    "acc = accuracy_score(y_test, y_pred)\n",
    "cm = confusion_matrix(y_test, y_pred)\n",
    "print('Precision:', precision)\n",
    "print('Recall:', recall)\n",
    "print('Accuracy:', acc)\n",
    "print('Confusion Matrix:', cm)"
   ]
  },
  {
   "cell_type": "code",
   "execution_count": null,
   "metadata": {},
   "outputs": [],
   "source": []
  }
 ],
 "metadata": {
  "kernelspec": {
   "display_name": "Python 3",
   "language": "python",
   "name": "python3"
  },
  "language_info": {
   "codemirror_mode": {
    "name": "ipython",
    "version": 3
   },
   "file_extension": ".py",
   "mimetype": "text/x-python",
   "name": "python",
   "nbconvert_exporter": "python",
   "pygments_lexer": "ipython3",
   "version": "3.7.6"
  }
 },
 "nbformat": 4,
 "nbformat_minor": 4
}
